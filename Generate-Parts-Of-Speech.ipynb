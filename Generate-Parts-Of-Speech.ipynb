{
 "cells": [
  {
   "cell_type": "code",
   "execution_count": 13,
   "metadata": {},
   "outputs": [
    {
     "name": "stdout",
     "output_type": "stream",
     "text": [
      "[('Machine', 'NN'), ('learning', 'NN'), ('is', 'VBZ'), ('closely', 'RB'), ('related', 'VBN'), ('to', 'TO'), ('(', '('), ('and', 'CC'), ('often', 'RB'), ('overlaps', 'VBZ'), ('with', 'IN'), (')', ')'), ('computational', 'JJ'), ('statistics', 'NNS'), (',', ','), ('which', 'WDT'), ('also', 'RB'), ('focuses', 'VBZ'), ('on', 'IN'), ('prediction-making', 'NN'), ('through', 'IN'), ('the', 'DT'), ('use', 'NN'), ('of', 'IN'), ('computers', 'NNS'), ('.', '.')]\n",
      "[('It', 'PRP'), ('has', 'VBZ'), ('strong', 'JJ'), ('ties', 'NNS'), ('to', 'TO'), ('mathematical', 'JJ'), ('optimization', 'NN'), (',', ','), ('which', 'WDT'), ('delivers', 'VBZ'), ('methods', 'NNS'), (',', ','), ('theory', 'NN'), ('and', 'CC'), ('application', 'NN'), ('domains', 'NNS'), ('to', 'TO'), ('the', 'DT'), ('field', 'NN'), ('.', '.')]\n",
      "[('Machine', 'NN'), ('learning', 'NN'), ('is', 'VBZ'), ('sometimes', 'RB'), ('conflated', 'VBN'), ('with', 'IN'), ('data', 'NNS'), ('mining', 'NN'), (',', ','), ('where', 'WRB'), ('the', 'DT'), ('latter', 'JJ'), ('subfield', 'NN'), ('focuses', 'VBZ'), ('more', 'JJR'), ('on', 'IN'), ('exploratory', 'NN'), ('data', 'NNS'), ('analysis', 'NN'), ('and', 'CC'), ('is', 'VBZ'), ('known', 'VBN'), ('as', 'IN'), ('unsupervised', 'JJ'), ('learning', 'NN'), ('.', '.')]\n",
      "[('Machine', 'NN'), ('learning', 'NN'), ('can', 'MD'), ('also', 'RB'), ('be', 'VB'), ('unsupervised', 'JJ'), ('and', 'CC'), ('be', 'VB'), ('used', 'VBN'), ('to', 'TO'), ('learn', 'VB'), ('and', 'CC'), ('establish', 'VB'), ('baseline', 'JJ'), ('behavioral', 'JJ'), ('profiles', 'NNS'), ('for', 'IN'), ('various', 'JJ'), ('entities', 'NNS'), ('and', 'CC'), ('then', 'RB'), ('used', 'VBD'), ('to', 'TO'), ('find', 'VB'), ('meaningful', 'JJ'), ('anomalies', 'NNS'), ('.', '.')]\n"
     ]
    }
   ],
   "source": [
    "# POS tag list:\n",
    "\n",
    "# CC\tcoordinating conjunction\n",
    "# CD\tcardinal digit\n",
    "# DT\tdeterminer\n",
    "# EX\texistential there (like: \"there is\" ... think of it like \"there exists\")\n",
    "# FW\tforeign word\n",
    "# IN\tpreposition/subordinating conjunction\n",
    "# JJ\tadjective\t'big'\n",
    "# JJR\tadjective, comparative\t'bigger'\n",
    "# JJS\tadjective, superlative\t'biggest'\n",
    "# LS\tlist marker\t1)\n",
    "# MD\tmodal\tcould, will\n",
    "# NN\tnoun, singular 'desk'\n",
    "# NNS\tnoun plural\t'desks'\n",
    "# NNP\tproper noun, singular\t'Harrison'\n",
    "# NNPS\tproper noun, plural\t'Americans'\n",
    "# PDT\tpredeterminer\t'all the kids'\n",
    "# POS\tpossessive ending\tparent\\'s\n",
    "# PRP\tpersonal pronoun\tI, he, she\n",
    "# PRP$\tpossessive pronoun\tmy, his, hers\n",
    "# RB\tadverb\tvery, silently,\n",
    "# RBR\tadverb, comparative\tbetter\n",
    "# RBS\tadverb, superlative\tbest\n",
    "# RP\tparticle\tgive up\n",
    "# TO\tto\tgo 'to' the store.\n",
    "# UH\tinterjection\terrrrrrrrm\n",
    "# VB\tverb, base form\ttake\n",
    "# VBD\tverb, past tense\ttook\n",
    "# VBG\tverb, gerund/present participle\ttaking\n",
    "# VBN\tverb, past participle\ttaken\n",
    "# VBP\tverb, sing. present, non-3d\ttake\n",
    "# VBZ\tverb, 3rd person sing. present\ttakes\n",
    "# WDT\twh-determiner\twhich\n",
    "# WP\twh-pronoun\twho, what\n",
    "# WP$\tpossessive wh-pronoun\twhose\n",
    "# WRB\twh-abverb\twhere, when\n",
    "from nltk.tokenize import word_tokenize, sent_tokenize\n",
    "document='Machine learning is closely related to (and often overlaps with) computational statistics, which also focuses on prediction-making through the use of computers. It has strong ties to mathematical optimization, which delivers methods, theory and application domains to the field. Machine learning is sometimes conflated with data mining, where the latter subfield focuses more on exploratory data analysis and is known as unsupervised learning. Machine learning can also be unsupervised and be used to learn and establish baseline behavioral profiles for various entities and then used to find meaningful anomalies.'\n",
    "sentences=sent_tokenize(document)\n",
    "for sent in sentences:\n",
    "    print(nltk.pos_tag(word_tokenize(sent)))"
   ]
  },
  {
   "cell_type": "code",
   "execution_count": null,
   "metadata": {},
   "outputs": [],
   "source": []
  }
 ],
 "metadata": {
  "kernelspec": {
   "display_name": "Python 3",
   "language": "python",
   "name": "python3"
  },
  "language_info": {
   "codemirror_mode": {
    "name": "ipython",
    "version": 3
   },
   "file_extension": ".py",
   "mimetype": "text/x-python",
   "name": "python",
   "nbconvert_exporter": "python",
   "pygments_lexer": "ipython3",
   "version": "3.6.4"
  }
 },
 "nbformat": 4,
 "nbformat_minor": 2
}
