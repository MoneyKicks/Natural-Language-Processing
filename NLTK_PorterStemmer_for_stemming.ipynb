{
 "cells": [
  {
   "cell_type": "code",
   "execution_count": 3,
   "metadata": {
    "scrolled": true
   },
   "outputs": [
    {
     "name": "stdout",
     "output_type": "stream",
     "text": [
      "play\n",
      "play\n",
      "play\n",
      "play\n",
      "play-way\n",
      "play\n",
      "plann\n",
      "########################\n",
      "she\n",
      "play\n",
      "in\n",
      "a\n",
      "play\n",
      "way\n",
      "so\n",
      "that\n",
      "if\n",
      "she\n",
      "is\n",
      "about\n",
      "to\n",
      "rememb\n",
      "the\n",
      "last\n",
      "match\n",
      "she\n",
      "play\n",
      "after\n",
      "plan\n",
      "a\n",
      "play-way\n",
      "of\n",
      "herself\n",
      "play\n",
      "a\n",
      "match\n",
      ".\n"
     ]
    }
   ],
   "source": [
    "# Stemming is used to figure out the root of a set of words having same meaning.\n",
    "# For example: play is the root word for all it's forms of verb like\n",
    "#              playing, plays,played, etc.\n",
    "# Although it's not very useful as we have Wordnet now as for generating synonyms of the word\n",
    "from nltk.stem import PorterStemmer\n",
    "from nltk.tokenize import word_tokenize\n",
    "ps=PorterStemmer()\n",
    "# Passing a list of words to stem function of PorterStemmer to generate roots of the words\n",
    "sample=['play','plays','played','playing','play-way','playful','plannning']\n",
    "for word in sample:\n",
    "    print(ps.stem(word))\n",
    "print(\"########################\")\n",
    "# Passing complete sentence and generating roots for each words\n",
    "sentence='She plays in a playful way so that if she is about to remember the last match she played after planning a play-way of herself playing a match.'\n",
    "words=word_tokenize(sentence)\n",
    "for word in words:\n",
    "    print(ps.stem(word))\n"
   ]
  },
  {
   "cell_type": "code",
   "execution_count": null,
   "metadata": {},
   "outputs": [],
   "source": []
  }
 ],
 "metadata": {
  "kernelspec": {
   "display_name": "Python 3",
   "language": "python",
   "name": "python3"
  },
  "language_info": {
   "codemirror_mode": {
    "name": "ipython",
    "version": 3
   },
   "file_extension": ".py",
   "mimetype": "text/x-python",
   "name": "python",
   "nbconvert_exporter": "python",
   "pygments_lexer": "ipython3",
   "version": "3.6.4"
  }
 },
 "nbformat": 4,
 "nbformat_minor": 2
}
