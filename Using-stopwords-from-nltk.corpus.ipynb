{
 "cells": [
  {
   "cell_type": "code",
   "execution_count": 7,
   "metadata": {},
   "outputs": [
    {
     "name": "stdout",
     "output_type": "stream",
     "text": [
      "['Corpus', 'simply', 'Latin', 'body', '.', 'So', ',', 'A', 'body', 'texts', 'called', 'Corpus', 'several', 'collections', 'texts', ',', 'Corpora', '.']\n"
     ]
    }
   ],
   "source": [
    "from nltk.tokenize import word_tokenize,sent_tokenize\n",
    "from nltk.corpus import stopwords\n",
    "sample='Corpus is simply Latin for body. So, A body of texts is called Corpus and when you have several such collections of texts, you have a Corpora.'\n",
    "words=word_tokenize(sample)\n",
    "stop_words=set(stopwords.words('english'))\n",
    "not_a_stopword=[]\n",
    "for i in words:\n",
    "    if i not in stop_words:\n",
    "        not_a_stopword.append(i)\n",
    "print(not_a_stopword)"
   ]
  },
  {
   "cell_type": "code",
   "execution_count": null,
   "metadata": {},
   "outputs": [],
   "source": []
  }
 ],
 "metadata": {
  "kernelspec": {
   "display_name": "Python 3",
   "language": "python",
   "name": "python3"
  },
  "language_info": {
   "codemirror_mode": {
    "name": "ipython",
    "version": 3
   },
   "file_extension": ".py",
   "mimetype": "text/x-python",
   "name": "python",
   "nbconvert_exporter": "python",
   "pygments_lexer": "ipython3",
   "version": "3.6.4"
  }
 },
 "nbformat": 4,
 "nbformat_minor": 2
}
