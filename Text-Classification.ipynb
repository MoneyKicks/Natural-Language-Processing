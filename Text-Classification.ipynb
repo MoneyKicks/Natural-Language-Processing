{
 "cells": [
  {
   "cell_type": "code",
   "execution_count": 36,
   "metadata": {},
   "outputs": [
    {
     "name": "stdout",
     "output_type": "stream",
     "text": [
      "[['best', 'remembered', 'for', 'his', 'understated', 'performance', 'as', 'dr', '.', 'hannibal', 'lecter', 'in', 'michael', 'mann', \"'\", 's', 'forensics', 'thriller', ',', 'manhunter', ',', 'scottish', 'character', 'actor', 'brian', 'cox', 'brings', 'something', 'special', 'to', 'every', 'movie', 'he', 'works', 'on', '.', 'usually', 'playing', 'a', 'bit', 'role', 'in', 'some', 'studio', 'schlock', '(', 'he', 'dies', 'halfway', 'through', 'the', 'long', 'kiss', 'goodnight', ')', ',', 'he', \"'\", 's', 'only', 'occasionally', 'given', 'something', 'meaty', 'and', 'substantial', 'to', 'do', '.', 'if', 'you', 'want', 'to', 'see', 'some', 'brilliant', 'acting', ',', 'check', 'out', 'his', 'work', 'as', 'a', 'dogged', 'police', 'inspector', 'opposite', 'frances', 'mcdormand', 'in', 'ken', 'loach', \"'\", 's', 'hidden', 'agenda', '.', 'cox', 'plays', 'the', 'role', 'of', 'big', 'john', 'harrigan', 'in', 'the', 'disturbing', 'new', 'indie', 'flick', 'l', '.', 'i', '.', 'e', '.', ',', 'which', 'lot', '47', 'picked', 'up', 'at', 'sundance', 'when', 'other', 'distributors', 'were', 'scared', 'to', 'budge', '.', 'big', 'john', 'feels', 'the', 'love', 'that', 'dares', 'not', 'speak', 'its', 'name', ',', 'but', 'he', 'expresses', 'it', 'through', 'seeking', 'out', 'adolescents', 'and', 'bringing', 'them', 'back', 'to', 'his', 'pad', '.', 'what', 'bothered', 'some', 'audience', 'members', 'was', 'the', 'presentation', 'of', 'big', 'john', 'in', 'an', 'oddly', 'empathetic', 'light', '.', 'he', \"'\", 's', 'an', 'even', '-', 'tempered', ',', 'funny', ',', 'robust', 'old', 'man', 'who', 'actually', 'listens', 'to', 'the', 'kids', \"'\", 'problems', '(', 'as', 'opposed', 'to', 'their', 'parents', 'and', 'friends', ',', 'both', 'caught', 'up', 'in', 'the', 'high', '-', 'wire', 'act', 'of', 'their', 'own', 'confused', 'lives', '.', ')', 'he', \"'\", 'll', 'have', 'sex', '-', 'for', '-', 'pay', 'with', 'them', 'only', 'after', 'an', 'elaborate', 'courtship', ',', 'charming', 'them', 'with', 'temptations', 'from', 'the', 'grown', '-', 'up', 'world', '.', 'l', '.', 'i', '.', 'e', '.', 'stands', 'for', 'long', 'island', 'expressway', ',', 'which', 'slices', 'through', 'the', 'strip', 'malls', 'and', 'middle', '-', 'class', 'homes', 'of', 'suburbia', '.', 'filmmaker', 'michael', 'cuesta', 'uses', 'it', 'as', 'a', '(', 'pretty', 'transparent', ')', 'metaphor', 'of', 'dangerous', 'escape', 'for', 'his', '15', '-', 'year', 'old', 'protagonist', ',', 'howie', '(', 'paul', 'franklin', 'dano', ')', '.', 'in', 'his', 'opening', 'voice', '-', 'over', ',', 'howie', 'reveals', 'a', 'morbid', 'preoccupation', 'with', 'death', 'on', 'the', 'road', ',', 'citing', 'the', 'l', '.', 'i', '.', 'e', '.', 'highway', 'deaths', 'of', 'filmmaker', 'alan', 'j', '.', 'pakula', ',', 'songwriter', 'harry', 'chapin', ',', 'and', 'his', 'own', 'mother', 'on', 'exit', '52', '.', 'he', \"'\", 's', 'both', 'fascinated', 'and', 'disturbed', 'by', 'the', 'l', '.', 'i', '.', 'e', '.', ',', 'and', 'those', 'feelings', 'are', 'projected', 'onto', 'big', 'john', '(', 'who', 'follows', 'howie', 'around', 'in', 'his', 'bright', 'red', 'car', ',', 'but', 'never', 'makes', 'a', 'move', 'to', 'force', 'the', 'boy', 'to', 'do', 'something', 'he', 'doesn', \"'\", 't', 'want', 'to', 'do', '.', 'this', 'makes', 'him', 'much', 'more', 'complex', 'than', 'the', 'usual', 'child', 'molesters', 'seen', 'in', 'movies', '--', 'he', \"'\", 's', 'a', 'beast', ',', 'but', 'ashamed', 'of', 'it', '.', ')', 'l', '.', 'i', '.', 'e', '.', 'would', 'have', 'worked', 'best', 'as', 'a', 'half', '-', 'hour', 'short', 'film', 'about', 'howie', \"'\", 's', 'ill', '-', 'advised', 'foray', 'into', 'big', 'john', \"'\", 's', 'haven', '.', 'there', 'is', 'unnecessary', 'padding', 'with', 'howie', \"'\", 's', 'miserable', 'dad', '(', 'bruce', 'altman', ')', 'in', 'the', 'hot', 'seat', 'for', 'a', 'white', '-', 'collar', 'crime', ',', 'degenerate', 'youngsters', 'who', 'get', 'their', 'kicks', 'from', 'robbing', 'middle', '-', 'class', 'houses', ',', 'and', 'some', 'homoerotic', 'shenanigans', 'with', 'wise', '-', 'ass', 'gary', 'terrio', '(', 'billy', 'kay', ')', ',', 'a', 'handsome', 'artful', 'dodger', '.', 'rather', 'than', 'add', 'to', 'the', 'themes', 'of', 'suburban', 'ennui', '(', 'not', 'that', 'we', 'needed', 'another', 'movie', 'on', 'that', 'subject', ')', ',', 'these', 'awkward', 'subplots', 'pad', 'out', 'the', 'running', 'time', 'to', 'adequate', 'feature', 'length', '.', 'concurrently', ',', 'the', 'relationship', 'between', 'howie', 'and', 'big', 'john', 'is', 'evenly', 'paced', 'and', 'exceptionally', 'well', 'acted', '.', 'cox', ',', 'sporting', 'a', 'baseball', 'cap', 'and', 'a', 'faded', 'marine', 'tattoo', ',', 'is', 'all', 'bluff', 'and', 'bluster', '.', 'dano', 'is', 'quiet', 'and', 'at', 'first', 'glance', 'seems', 'so', 'withdrawn', 'as', 'to', 'be', 'transparent', '.', 'we', \"'\", 're', 'so', 'used', 'to', 'child', 'actors', 'whose', 'dramatic', 'choices', 'are', 'broad', 'and', 'obvious', '(', 'calling', 'haley', 'joel', '!', ')', ',', 'it', \"'\", 's', 'surprising', 'to', 'see', 'one', 'who', 'actually', 'listens', 'throughout', 'any', 'given', 'scene', '.', 'the', 'restraint', 'is', 'admirable', '.', 'but', 'l', '.', 'i', '.', 'e', '.', \"'\", 's', 'screenplay', 'doesn', \"'\", 't', 'always', 'give', 'them', 'the', 'best', 'material', '.', 'when', 'howie', 'reads', 'big', 'john', 'a', 'walt', 'whitman', 'poem', ',', 'the', 'moment', 'feels', 'a', 'bit', 'too', 'precious', '.', 'director', 'michael', 'cuesta', 'lingers', 'on', 'an', 'ecstatic', 'reaction', 'shot', 'of', 'big', 'john', ',', 'who', 'may', 'as', 'well', 'be', 'hearing', 'glenn', 'gould', 'performing', 'bach', \"'\", 's', 'goldberg', 'variations', '.', 'it', \"'\", 's', 'too', 'much', '.', 'there', 'are', 'also', 'some', 'obvious', 'dramatic', 'contrivances', 'involving', 'big', 'john', \"'\", 's', 'other', 'boy', 'toy', '(', 'walter', 'masterson', ')', ',', 'jealous', 'over', 'the', 'newbie', '.', 'this', 'plot', 'thread', 'predictably', 'leads', 'to', 'violence', '.', 'not', 'content', 'to', 'be', 'a', 'haunting', ',', 'observational', 'portrait', 'of', 'teen', 'alienation', 'in', 'a', 'royally', 'screwed', 'up', 'world', '(', 'like', 'terry', 'zwigoff', \"'\", 's', 'superb', 'ghost', 'world', ')', ',', 'cuesta', 'lacks', 'the', 'confidence', 'in', 'his', 'own', 'work', 'to', 'end', 'on', 'an', 'ambivalent', 'note', '.', 'it', \"'\", 's', 'typical', 'of', 'unimaginative', 'cinema', 'to', 'wrap', 'things', 'up', 'with', 'a', 'bullet', ',', 'sparing', 'the', 'writers', 'from', 'actually', 'having', 'to', 'come', 'up', 'with', 'a', 'complex', ',', 'philosophical', 'note', '.', 'in', 'this', 'regard', ',', 'l', '.', 'i', '.', 'e', '.', '(', 'and', 'countless', 'other', 'indie', 'films', ')', 'share', 'something', 'in', 'common', 'with', 'blockbuster', 'action', 'films', ':', 'problems', 'are', 'solved', 'when', 'the', 'obstacle', 'is', 'removed', '.', 'how', 'often', 'does', 'real', 'life', 'work', 'this', 'way', '?', 'to', 'extend', 'the', 'question', ':', 'if', 'a', 'movie', 'is', 'striving', 'for', 'realism', ',', 'do', 'dramatic', 'contrivances', 'destroy', 'the', 'illusion', '?'], 'neg']\n",
      "#########################\n",
      "[(',', 77717), ('the', 76529), ('.', 65876), ('a', 38106), ('and', 35576), ('of', 34123), ('to', 31937), (\"'\", 30585), ('is', 25195), ('in', 21822)]\n"
     ]
    }
   ],
   "source": [
    "import nltk\n",
    "import random\n",
    "from nltk.corpus import movie_reviews\n",
    "document=[]\n",
    "for category in movie_reviews.categories():\n",
    "    for fileid in movie_reviews.fileids(category):\n",
    "        tup=[]\n",
    "        tup.append(list(movie_reviews.words(fileid)))\n",
    "        tup.append(category)\n",
    "        document.append(tup)\n",
    "random.shuffle(document)    \n",
    "print(document[0])\n",
    "set_of_words=[]\n",
    "for word in movie_reviews.words():\n",
    "    set_of_words.append(word.lower())\n",
    "set_of_words=nltk.FreqDist(set_of_words)\n",
    "print(\"#########################\")\n",
    "print(set_of_words.most_common(10))"
   ]
  },
  {
   "cell_type": "code",
   "execution_count": null,
   "metadata": {},
   "outputs": [],
   "source": []
  },
  {
   "cell_type": "code",
   "execution_count": null,
   "metadata": {},
   "outputs": [],
   "source": []
  }
 ],
 "metadata": {
  "kernelspec": {
   "display_name": "Python 3",
   "language": "python",
   "name": "python3"
  },
  "language_info": {
   "codemirror_mode": {
    "name": "ipython",
    "version": 3
   },
   "file_extension": ".py",
   "mimetype": "text/x-python",
   "name": "python",
   "nbconvert_exporter": "python",
   "pygments_lexer": "ipython3",
   "version": "3.6.4"
  }
 },
 "nbformat": 4,
 "nbformat_minor": 2
}
