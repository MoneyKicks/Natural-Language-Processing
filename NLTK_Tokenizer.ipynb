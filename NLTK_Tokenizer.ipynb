{
 "cells": [
  {
   "cell_type": "code",
   "execution_count": 5,
   "metadata": {},
   "outputs": [
    {
     "name": "stdout",
     "output_type": "stream",
     "text": [
      "[\"Hello this is my first code in nltk.Feeling quite excited for new stuff.Let's do it Mr. Coder.\"]\n"
     ]
    }
   ],
   "source": [
    "from nltk.tokenize import word_tokenize ,sent_tokenize\n",
    "message=\"Hello this is my first code in nltk.Feeling quite excited for new stuff.Let's do it Mr. Coder.\"\n",
    "print(sent_tokenize(message))"
   ]
  },
  {
   "cell_type": "code",
   "execution_count": null,
   "metadata": {},
   "outputs": [],
   "source": []
  }
 ],
 "metadata": {
  "kernelspec": {
   "display_name": "Python 3",
   "language": "python",
   "name": "python3"
  },
  "language_info": {
   "codemirror_mode": {
    "name": "ipython",
    "version": 3
   },
   "file_extension": ".py",
   "mimetype": "text/x-python",
   "name": "python",
   "nbconvert_exporter": "python",
   "pygments_lexer": "ipython3",
   "version": "3.6.4"
  }
 },
 "nbformat": 4,
 "nbformat_minor": 2
}
