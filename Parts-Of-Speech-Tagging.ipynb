{
 "cells": [
  {
   "cell_type": "code",
   "execution_count": 26,
   "metadata": {},
   "outputs": [
    {
     "name": "stdout",
     "output_type": "stream",
     "text": [
      "[('Machine', 'NN'), ('learning', 'NN'), ('statistics', 'NNS'), ('prediction-making', 'NN'), ('use', 'NN'), ('computers', 'NNS'), ('ties', 'NNS'), ('optimization', 'NN'), ('methods', 'NNS'), ('theory', 'NN'), ('application', 'NN'), ('domains', 'NNS'), ('field', 'NN'), ('Machine', 'NN'), ('learning', 'NN'), ('data', 'NNS'), ('mining', 'NN'), ('subfield', 'NN'), ('exploratory', 'NN'), ('data', 'NNS'), ('analysis', 'NN'), ('learning', 'NN'), ('Machine', 'NN'), ('learning', 'NN'), ('profiles', 'NNS'), ('entities', 'NNS'), ('anomalies', 'NNS')]\n"
     ]
    }
   ],
   "source": [
    "#To print word that are nouns from a given paragraph\n",
    "from nltk.tokenize import sent_tokenize,word_tokenize\n",
    "document='Machine learning is closely related to (and often overlaps with) computational statistics, which also focuses on prediction-making through the use of computers. It has strong ties to mathematical optimization, which delivers methods, theory and application domains to the field. Machine learning is sometimes conflated with data mining, where the latter subfield focuses more on exploratory data analysis and is known as unsupervised learning. Machine learning can also be unsupervised and be used to learn and establish baseline behavioral profiles for various entities and then used to find meaningful anomalies.'\n",
    "#Generate all possible sentences\n",
    "sentences=sent_tokenize(document)\n",
    "data=[]\n",
    "#Traverse through the list of sentences and add Parts-Of-Speech(POS) tags to each word and store them in list\n",
    "for sentence in sentences:\n",
    "        data=data+nltk.pos_tag(word_tokenize(sentence))\n",
    "keyword=[]    \n",
    "# Traverse the list to check if the given tag is a noun or not , if yes then add to keyword otherwise no\n",
    "for word in data:\n",
    "    if 'NN' in word[1]:\n",
    "        keyword.append(word)\n",
    "#Finally print them     \n",
    "print(keyword)"
   ]
  },
  {
   "cell_type": "code",
   "execution_count": null,
   "metadata": {},
   "outputs": [],
   "source": []
  }
 ],
 "metadata": {
  "kernelspec": {
   "display_name": "Python 3",
   "language": "python",
   "name": "python3"
  },
  "language_info": {
   "codemirror_mode": {
    "name": "ipython",
    "version": 3
   },
   "file_extension": ".py",
   "mimetype": "text/x-python",
   "name": "python",
   "nbconvert_exporter": "python",
   "pygments_lexer": "ipython3",
   "version": "3.6.4"
  }
 },
 "nbformat": 4,
 "nbformat_minor": 2
}
